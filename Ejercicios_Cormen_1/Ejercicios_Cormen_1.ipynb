{
 "cells": [
  {
   "cell_type": "markdown",
   "metadata": {},
   "source": [
    "# Tarea 1\n",
    "\n",
    "* *Rivera Castro Kevin Martin*\n",
    "\n",
    "## Cormen"
   ]
  },
  {
   "cell_type": "markdown",
   "metadata": {},
   "source": [
    "## 2.1-3\n",
    "Consider the searching problem:\n",
    "\n",
    "Input: $A$ sequence of $n$ numbers $A = (a_1, a_2, a_3, ... a_n)$ and a value $v$.\n",
    "\n",
    "Output: An index $i$ such that $v = A[i]$ or the special value NIL if does not\n",
    "appear in $A$."
   ]
  },
  {
   "cell_type": "code",
   "execution_count": 1,
   "metadata": {},
   "outputs": [
    {
     "data": {
      "text/plain": [
       "SearchingProblem (generic function with 1 method)"
      ]
     },
     "execution_count": 1,
     "metadata": {},
     "output_type": "execute_result"
    }
   ],
   "source": [
    "function SearchingProblem(A, v)\n",
    "    for i in 1:length(A)        \n",
    "        if v == A[i]\n",
    "            return i\n",
    "        elseif i == length(A)\n",
    "            return missing\n",
    "        end                                       \n",
    "    end\n",
    "end"
   ]
  },
  {
   "cell_type": "code",
   "execution_count": 2,
   "metadata": {},
   "outputs": [],
   "source": [
    "A = [31, 41, 59, 26, 41, 58]\n",
    "v = 30;"
   ]
  },
  {
   "cell_type": "code",
   "execution_count": 3,
   "metadata": {},
   "outputs": [
    {
     "data": {
      "text/plain": [
       "missing"
      ]
     },
     "execution_count": 3,
     "metadata": {},
     "output_type": "execute_result"
    }
   ],
   "source": [
    "SearchingProblem(A, v)"
   ]
  },
  {
   "cell_type": "markdown",
   "metadata": {},
   "source": [
    "## 2.1-4\n",
    "Consider the problem of adding two n-bit binary integers, stored in two n-element arrays $A$ and $B$. The sum of the two integers should be stored in binary form in an $(n+1)$ element array $C$. State the problem formally and write pseudocode for\n",
    "adding the two integers."
   ]
  },
  {
   "cell_type": "code",
   "execution_count": 25,
   "metadata": {},
   "outputs": [
    {
     "data": {
      "text/plain": [
       "AddingBinary (generic function with 1 method)"
      ]
     },
     "execution_count": 25,
     "metadata": {},
     "output_type": "execute_result"
    }
   ],
   "source": [
    "function AddingBinary(A, B)\n",
    "    C = [0, 0, 0, 0]\n",
    "    ac = 0\n",
    "    i = 0\n",
    "    j = length(A)\n",
    "    for i in 1:length(A)\n",
    "        s = A[j] + B[j] + ac\n",
    "        C[j+1] = s % 2\n",
    "        ac = s ÷ 2\n",
    "        j = j-1\n",
    "    end\n",
    "    C[1] = ac\n",
    "    return C\n",
    "end"
   ]
  },
  {
   "cell_type": "code",
   "execution_count": 8,
   "metadata": {},
   "outputs": [],
   "source": [
    "A = [0, 1, 1]\n",
    "B = [1, 1, 0];"
   ]
  },
  {
   "cell_type": "code",
   "execution_count": 26,
   "metadata": {
    "scrolled": true
   },
   "outputs": [
    {
     "data": {
      "text/plain": [
       "4-element Array{Int64,1}:\n",
       " 1\n",
       " 0\n",
       " 0\n",
       " 1"
      ]
     },
     "execution_count": 26,
     "metadata": {},
     "output_type": "execute_result"
    }
   ],
   "source": [
    "AddingBinary(A, B)"
   ]
  },
  {
   "cell_type": "markdown",
   "metadata": {},
   "source": [
    "## 2.2-2\n",
    "Consider sorting n numbers stored in array $A$ by first finding the smallest element\n",
    "of $A$ and exchanging it with the element in $A[1]$. Then find the second smallest\n",
    "element of $A$, and exchange it with $A[2]$. Continue in this manner for the first $n-1$\n",
    "elements of $A$."
   ]
  },
  {
   "cell_type": "code",
   "execution_count": 9,
   "metadata": {},
   "outputs": [
    {
     "data": {
      "text/plain": [
       "SelectionSort (generic function with 1 method)"
      ]
     },
     "execution_count": 9,
     "metadata": {},
     "output_type": "execute_result"
    }
   ],
   "source": [
    "function SelectionSort(A)\n",
    "    for i in 1:length(A)-1\n",
    "        println(A)\n",
    "        min = i\n",
    "        for j in i+1:length(A)\n",
    "            if A[j] < A[min]\n",
    "               min = j \n",
    "            end\n",
    "        end\n",
    "        if min != i\n",
    "            aux = A[i]\n",
    "            A[i] = A[min]\n",
    "            A[min] = aux\n",
    "        end             \n",
    "    end\n",
    "    return A\n",
    "end"
   ]
  },
  {
   "cell_type": "code",
   "execution_count": 10,
   "metadata": {},
   "outputs": [],
   "source": [
    "A = [31, 41, 59, 26, 41, 58];"
   ]
  },
  {
   "cell_type": "code",
   "execution_count": 11,
   "metadata": {
    "scrolled": true
   },
   "outputs": [
    {
     "name": "stdout",
     "output_type": "stream",
     "text": [
      "[31, 41, 59, 26, 41, 58]\n",
      "[26, 41, 59, 31, 41, 58]\n",
      "[26, 31, 59, 41, 41, 58]\n",
      "[26, 31, 41, 59, 41, 58]\n",
      "[26, 31, 41, 41, 59, 58]\n"
     ]
    },
    {
     "data": {
      "text/plain": [
       "6-element Array{Int64,1}:\n",
       " 26\n",
       " 31\n",
       " 41\n",
       " 41\n",
       " 58\n",
       " 59"
      ]
     },
     "execution_count": 11,
     "metadata": {},
     "output_type": "execute_result"
    }
   ],
   "source": [
    "SelectionSort(A)"
   ]
  },
  {
   "cell_type": "markdown",
   "metadata": {},
   "source": [
    "## 2.3-2\n",
    "\n",
    "Rewrite the $MERGE$ procedure so that it does not use sentinels, instead stopping once either array $L$ or $R$ has had all its elements copied back to $A$ and then copying the remainder of the other array back into $A$."
   ]
  },
  {
   "cell_type": "code",
   "execution_count": 134,
   "metadata": {},
   "outputs": [
    {
     "data": {
      "text/plain": [
       "Merge (generic function with 1 method)"
      ]
     },
     "execution_count": 134,
     "metadata": {},
     "output_type": "execute_result"
    }
   ],
   "source": [
    "function Merge(A,p,q,r)\n",
    "    i = 1\n",
    "    j = 1\n",
    "    n1 = q-p+1\n",
    "    n2 = r-q\n",
    "    L = []\n",
    "    R = []\n",
    "    for i in 1:n1\n",
    "        append!(L, A[p+i-1])\n",
    "    end\n",
    "    for j in 1:n2\n",
    "        append!(R, A[q+j])\n",
    "    end\n",
    "    i = 1\n",
    "    j = 1\n",
    "    for k in p:r\n",
    "        println(A)\n",
    "        if (q+j > r) || (L[i] <= R[j])\n",
    "            A[k] = L[i]\n",
    "            i = i+1\n",
    "        else\n",
    "            A[k] = R[j]\n",
    "            j = j+1\n",
    "        end\n",
    "    end\n",
    "end"
   ]
  },
  {
   "cell_type": "code",
   "execution_count": 21,
   "metadata": {},
   "outputs": [
    {
     "data": {
      "text/plain": [
       "Merge (generic function with 1 method)"
      ]
     },
     "execution_count": 21,
     "metadata": {},
     "output_type": "execute_result"
    }
   ],
   "source": [
    "function Merge(A,p,q,r)\n",
    "    i = 1\n",
    "    j = 1\n",
    "    n1 = q-p+1\n",
    "    n2 = r-q\n",
    "    L = []\n",
    "    R = []\n",
    "    for i in 1:n1\n",
    "        append!(L, A[p+i-1])\n",
    "    end\n",
    "    for j in 1:n2\n",
    "        append!(R, A[q+j])\n",
    "    end\n",
    "    i = 1\n",
    "    j = 1\n",
    "    for k in p:r\n",
    "        if (i > n1) || (j > n2)\n",
    "            if i > n1\n",
    "                A[k] = R[j]\n",
    "            else\n",
    "                A[k] = L[i]\n",
    "            end\n",
    "        elseif L[i] <= R[j]\n",
    "            A[k] = L[i]\n",
    "            i = i+1\n",
    "        else\n",
    "            A[k] = R[j]\n",
    "            j = j+1\n",
    "        end\n",
    "    end\n",
    "end"
   ]
  },
  {
   "cell_type": "code",
   "execution_count": 22,
   "metadata": {},
   "outputs": [],
   "source": [
    "A = [3,26,41,52,9,38,49,57]\n",
    "q = floor(Int,(1+8)/2);"
   ]
  },
  {
   "cell_type": "code",
   "execution_count": 23,
   "metadata": {},
   "outputs": [
    {
     "data": {
      "text/plain": [
       "8-element Vector{Int64}:\n",
       "  3\n",
       "  9\n",
       " 26\n",
       " 38\n",
       " 41\n",
       " 49\n",
       " 52\n",
       " 57"
      ]
     },
     "execution_count": 23,
     "metadata": {},
     "output_type": "execute_result"
    }
   ],
   "source": [
    "Merge(A,1,q,8)\n",
    "A"
   ]
  },
  {
   "cell_type": "markdown",
   "metadata": {},
   "source": [
    "## 2.3-5\n",
    "\n",
    "Referring back to the searching problem **(see Exercise 2.1-3)**, observe that if the sequence $A$ is sorted, we can check the midpoint of the sequence against and eliminate half of the sequence from further consideration. The $binary search$ algorithm repeats this procedure, halving the size of the remaining portion of the sequence each time. Write pseudocode, either iterative or recursive, for binary search."
   ]
  },
  {
   "cell_type": "code",
   "execution_count": 34,
   "metadata": {},
   "outputs": [
    {
     "data": {
      "text/plain": [
       "BinarySearch (generic function with 1 method)"
      ]
     },
     "execution_count": 34,
     "metadata": {},
     "output_type": "execute_result"
    }
   ],
   "source": [
    "function BinarySearch(A,i,j,x)\n",
    "    m = ceil(Int,(i+j-1)/2)\n",
    "    if x == A[m]\n",
    "        return m\n",
    "    elseif x < A[m] && i<m\n",
    "        BinarySearch(A,i,m-1,x)\n",
    "    elseif x > A[m] && j>m\n",
    "        BinarySearch(A,m+1,j,x)\n",
    "    else\n",
    "        return missing\n",
    "    end\n",
    "end"
   ]
  },
  {
   "cell_type": "code",
   "execution_count": 42,
   "metadata": {},
   "outputs": [],
   "source": [
    "A = [26, 31, 41, 41, 58, 59]\n",
    "x = 58;"
   ]
  },
  {
   "cell_type": "code",
   "execution_count": 43,
   "metadata": {},
   "outputs": [
    {
     "data": {
      "text/plain": [
       "5"
      ]
     },
     "execution_count": 43,
     "metadata": {},
     "output_type": "execute_result"
    }
   ],
   "source": [
    "BinarySearch(A,1,6,x)"
   ]
  },
  {
   "cell_type": "markdown",
   "metadata": {},
   "source": [
    "## 2.3-7\n",
    "\n",
    "Describe a $\\theta(nlgn)-time$ algorithm that, given a set $S$ of $n$ integers and another integer $x$, determines whether or not there exist two elements in $S$ whose $sum$ is exactly $x$."
   ]
  },
  {
   "cell_type": "code",
   "execution_count": 44,
   "metadata": {},
   "outputs": [
    {
     "data": {
      "text/plain": [
       "ExistSum (generic function with 1 method)"
      ]
     },
     "execution_count": 44,
     "metadata": {},
     "output_type": "execute_result"
    }
   ],
   "source": [
    "function ExistSum(A,i,j,x)\n",
    "    A = sort(A)\n",
    "    while i <= j\n",
    "        if A[i]+A[j] == x\n",
    "            return(A[i], A[j])\n",
    "        elseif A[i]+A[j] < x\n",
    "            i = i+1\n",
    "        else\n",
    "            j = j-1\n",
    "        end\n",
    "    end\n",
    "    return missing\n",
    "end"
   ]
  },
  {
   "cell_type": "code",
   "execution_count": 51,
   "metadata": {},
   "outputs": [],
   "source": [
    "A = [15,17,18,7,2,4,35,23,0,1]\n",
    "x = 10;"
   ]
  },
  {
   "cell_type": "code",
   "execution_count": 52,
   "metadata": {},
   "outputs": [
    {
     "data": {
      "text/plain": [
       "missing"
      ]
     },
     "execution_count": 52,
     "metadata": {},
     "output_type": "execute_result"
    }
   ],
   "source": [
    "ExistSum(A,1,10,x)"
   ]
  },
  {
   "cell_type": "markdown",
   "metadata": {},
   "source": [
    "## 6.2-2\n",
    "\n",
    "Starting with the procedure **MAX-HEAPIFY**, write pseudocode for the procedure **MIN-HEAPIFY$(A,i)$**, which performs the corresponding manipulation on a **minheap**."
   ]
  },
  {
   "cell_type": "code",
   "execution_count": 4,
   "metadata": {},
   "outputs": [
    {
     "data": {
      "text/plain": [
       "MinHeapify (generic function with 1 method)"
      ]
     },
     "execution_count": 4,
     "metadata": {},
     "output_type": "execute_result"
    }
   ],
   "source": [
    "function MinHeapify(A,i)\n",
    "    l = 2*i\n",
    "    r = 2*i+1\n",
    "    if (l <= length(A)) && (A[l] < A[i])\n",
    "        smallest = l\n",
    "    else\n",
    "        smallest = i\n",
    "    end\n",
    "    if r <= length(A) && A[r] < A[smallest]\n",
    "        smallest = r\n",
    "    end\n",
    "    if smallest != i\n",
    "        A[i], A[smallest] = A[smallest], A[i]\n",
    "        MinHeapify(A,smallest)\n",
    "    end\n",
    "end"
   ]
  },
  {
   "cell_type": "code",
   "execution_count": 15,
   "metadata": {},
   "outputs": [],
   "source": [
    "A = [27, 17, 3, 16, 13, 10, 1, 5, 7, 12, 4, 8, 9, 0];"
   ]
  },
  {
   "cell_type": "code",
   "execution_count": 16,
   "metadata": {},
   "outputs": [
    {
     "data": {
      "text/plain": [
       "14-element Vector{Int64}:\n",
       " 27\n",
       " 17\n",
       "  1\n",
       " 16\n",
       " 13\n",
       " 10\n",
       "  0\n",
       "  5\n",
       "  7\n",
       " 12\n",
       "  4\n",
       "  8\n",
       "  9\n",
       "  3"
      ]
     },
     "execution_count": 16,
     "metadata": {},
     "output_type": "execute_result"
    }
   ],
   "source": [
    "MinHeapify(A, 3)\n",
    "A"
   ]
  },
  {
   "cell_type": "markdown",
   "metadata": {},
   "source": [
    "## 6.2-5\n",
    "\n",
    "The code for **MAX-HEAPIFY** is quite efficient in terms of constant factors, except possibly for the recursive call in line 10, which might cause some compilers to produce inefficient code. Write an efficient **MAX-HEAPIFY** that uses an **iterative** control construct (a loop) instead of recursion."
   ]
  },
  {
   "cell_type": "code",
   "execution_count": 1,
   "metadata": {},
   "outputs": [
    {
     "data": {
      "text/plain": [
       "MaxHeapify_I (generic function with 1 method)"
      ]
     },
     "execution_count": 1,
     "metadata": {},
     "output_type": "execute_result"
    }
   ],
   "source": [
    "function MaxHeapify_I(A,i)\n",
    "    maxh = false\n",
    "    aux = i\n",
    "    while maxh == false\n",
    "        l = 2*aux\n",
    "        r = 2*aux+1\n",
    "        if (l <= length(A)) && (A[l] > A[aux])\n",
    "            largest = l\n",
    "        else\n",
    "            largest = aux\n",
    "        end\n",
    "        if r <= length(A) && A[r] > A[largest]\n",
    "            largest = r\n",
    "        end\n",
    "        if largest != aux\n",
    "            A[aux], A[largest] = A[largest], A[aux]\n",
    "            aux = largest\n",
    "        else\n",
    "            maxh = true\n",
    "        end\n",
    "    end\n",
    "end"
   ]
  },
  {
   "cell_type": "code",
   "execution_count": 2,
   "metadata": {},
   "outputs": [],
   "source": [
    "A = [0, 17, 3, 16, 13, 10, 1, 5, 7, 12, 4, 8, 9, 27];"
   ]
  },
  {
   "cell_type": "code",
   "execution_count": 3,
   "metadata": {},
   "outputs": [
    {
     "data": {
      "text/plain": [
       "14-element Vector{Int64}:\n",
       " 17\n",
       " 16\n",
       "  3\n",
       "  7\n",
       " 13\n",
       " 10\n",
       "  1\n",
       "  5\n",
       "  0\n",
       " 12\n",
       "  4\n",
       "  8\n",
       "  9\n",
       " 27"
      ]
     },
     "execution_count": 3,
     "metadata": {},
     "output_type": "execute_result"
    }
   ],
   "source": [
    "MaxHeapify_I(A,1)\n",
    "A"
   ]
  },
  {
   "cell_type": "markdown",
   "metadata": {},
   "source": [
    "## 7.1-4\n",
    "\n",
    "How would you modify **QUICKSORT** to sort into **nonincreasing** order?"
   ]
  },
  {
   "cell_type": "code",
   "execution_count": 4,
   "metadata": {},
   "outputs": [
    {
     "data": {
      "text/plain": [
       "Partition (generic function with 1 method)"
      ]
     },
     "execution_count": 4,
     "metadata": {},
     "output_type": "execute_result"
    }
   ],
   "source": [
    "function Partition(A,p,r)\n",
    "    x = A[r]\n",
    "    i = p-1\n",
    "    for j in p:r-1\n",
    "        if A[j] >= x\n",
    "            i = i+1\n",
    "            A[i], A[j] = A[j], A[i]\n",
    "        end\n",
    "    end\n",
    "    A[i+1], A[r] = A[r], A[i+1]\n",
    "    return i+1\n",
    "end"
   ]
  },
  {
   "cell_type": "code",
   "execution_count": 6,
   "metadata": {},
   "outputs": [
    {
     "data": {
      "text/plain": [
       "Quicksort_D (generic function with 1 method)"
      ]
     },
     "execution_count": 6,
     "metadata": {},
     "output_type": "execute_result"
    }
   ],
   "source": [
    "function Quicksort_D(A,p,r)\n",
    "    if p < r\n",
    "        q = Partition(A,p,r)\n",
    "        Quicksort_D(A,p,q-1)\n",
    "        Quicksort_D(A,q+1,r)\n",
    "    end\n",
    "end"
   ]
  },
  {
   "cell_type": "code",
   "execution_count": 7,
   "metadata": {},
   "outputs": [],
   "source": [
    "A = [13, 19, 9, 5, 12, 8, 7, 4, 21, 2, 6, 11];"
   ]
  },
  {
   "cell_type": "code",
   "execution_count": 8,
   "metadata": {},
   "outputs": [
    {
     "data": {
      "text/plain": [
       "12-element Vector{Int64}:\n",
       " 21\n",
       " 19\n",
       " 13\n",
       " 12\n",
       " 11\n",
       "  9\n",
       "  8\n",
       "  7\n",
       "  6\n",
       "  5\n",
       "  4\n",
       "  2"
      ]
     },
     "execution_count": 8,
     "metadata": {},
     "output_type": "execute_result"
    }
   ],
   "source": [
    "Quicksort_D(A,1,12)\n",
    "A"
   ]
  },
  {
   "cell_type": "markdown",
   "metadata": {},
   "source": [
    "# Problemas"
   ]
  },
  {
   "cell_type": "markdown",
   "metadata": {},
   "source": [
    "## 0. \n",
    "Sea un natural **n**, usando solo comparaciones, halle un algoritmo que en **lgn** encuentre a **n**"
   ]
  },
  {
   "cell_type": "code",
   "execution_count": 8,
   "metadata": {},
   "outputs": [
    {
     "data": {
      "text/plain": [
       "Encontrar_N (generic function with 1 method)"
      ]
     },
     "execution_count": 8,
     "metadata": {},
     "output_type": "execute_result"
    }
   ],
   "source": [
    "function Encontrar_N(a,b)\n",
    "    c = ceil(Int,(a+b-1)/2)\n",
    "    println(\"Tu numero es igual a \", c,\"?\")\n",
    "    respuesta = readline()\n",
    "    if respuesta == \"si\"\n",
    "        return c\n",
    "    else\n",
    "        println(\"Tu numero es mayor o menor que \", c, \"?\")\n",
    "        respuesta = readline()\n",
    "        if respuesta == \"menor\"\n",
    "            Encontrar_N(a,c-1)\n",
    "        else\n",
    "            Encontrar_N(c+1,b)\n",
    "        end\n",
    "    end\n",
    "end"
   ]
  },
  {
   "cell_type": "code",
   "execution_count": 9,
   "metadata": {
    "scrolled": false
   },
   "outputs": [
    {
     "name": "stdout",
     "output_type": "stream",
     "text": [
      "Tu numero es igual a 50?\n",
      "stdin> no\n",
      "Tu numero es mayor o menor que 50?\n",
      "stdin> mayor\n",
      "Tu numero es igual a 75?\n",
      "stdin> no\n",
      "Tu numero es mayor o menor que 75?\n",
      "stdin> menor\n",
      "Tu numero es igual a 62?\n",
      "stdin> no\n",
      "Tu numero es mayor o menor que 62?\n",
      "stdin> menor\n",
      "Tu numero es igual a 56?\n",
      "stdin> no\n",
      "Tu numero es mayor o menor que 56?\n",
      "stdin> menor\n",
      "Tu numero es igual a 53?\n",
      "stdin> no\n",
      "Tu numero es mayor o menor que 53?\n",
      "stdin> mayor\n",
      "Tu numero es igual a 54?\n",
      "stdin> no\n",
      "Tu numero es mayor o menor que 54?\n",
      "stdin> mayor\n",
      "Tu numero es igual a 55?\n",
      "stdin> si\n"
     ]
    },
    {
     "data": {
      "text/plain": [
       "55"
      ]
     },
     "execution_count": 9,
     "metadata": {},
     "output_type": "execute_result"
    }
   ],
   "source": [
    "Encontrar_N(1,100)"
   ]
  },
  {
   "cell_type": "markdown",
   "metadata": {},
   "source": [
    "## 1.\n",
    "\n",
    "Dados dos conjuntos **A** y **B** de **n** números, y un número **x**, diseñe un algoritmo que en **O(nlgn)** encuentre, si existe, un elemento **a** en **A** y otro **b** en **B** tales que **a+b=x**."
   ]
  },
  {
   "cell_type": "code",
   "execution_count": 1,
   "metadata": {},
   "outputs": [
    {
     "data": {
      "text/plain": [
       "Busqueda_Binaria (generic function with 1 method)"
      ]
     },
     "execution_count": 1,
     "metadata": {},
     "output_type": "execute_result"
    }
   ],
   "source": [
    "function Busqueda_Binaria(x,i,A,k,l,B)       \n",
    "    m = ceil(Int,(k+l-1)/2)            \n",
    "    if x == A[i]+B[m]                        \n",
    "        return B[m]                       \n",
    "    elseif x < A[i]+B[m] && k<m             \n",
    "        Busqueda_Binaria(x,i,A,k,m-1,B)  \n",
    "    elseif x > A[i]+B[m] && l>m             \n",
    "        Busqueda_Binaria(x,i,A,m+1,l,B)  \n",
    "    else                             \n",
    "        return false               \n",
    "    end                               \n",
    "end"
   ]
  },
  {
   "cell_type": "code",
   "execution_count": 2,
   "metadata": {},
   "outputs": [
    {
     "data": {
      "text/plain": [
       "Encontrar_Suma (generic function with 1 method)"
      ]
     },
     "execution_count": 2,
     "metadata": {},
     "output_type": "execute_result"
    }
   ],
   "source": [
    "function Encontrar_Suma(x,i,j,A,k,l,B)\n",
    "    A = sort(A)\n",
    "    B = sort(B)\n",
    "    for i in 1:length(A)\n",
    "        b = Busqueda_Binaria(x,i,A,k,l,B)\n",
    "        if b == false && i == j\n",
    "            return false\n",
    "        elseif b != false\n",
    "            return A[i], b \n",
    "        end\n",
    "    end\n",
    "end"
   ]
  },
  {
   "cell_type": "code",
   "execution_count": 8,
   "metadata": {},
   "outputs": [],
   "source": [
    "A = [10,15,17,5,1,4,12,1]\n",
    "B = [15,17,18,7,2,4,35,23,0,1]\n",
    "x = 20;"
   ]
  },
  {
   "cell_type": "code",
   "execution_count": 9,
   "metadata": {},
   "outputs": [
    {
     "data": {
      "text/plain": [
       "(5, 15)"
      ]
     },
     "execution_count": 9,
     "metadata": {},
     "output_type": "execute_result"
    }
   ],
   "source": [
    "Encontrar_Suma(x,1,8,A,1,10,B)"
   ]
  },
  {
   "cell_type": "markdown",
   "metadata": {},
   "source": [
    "## 2.\n",
    "\n",
    "Supongamos que tenemos una lista **A** con **n** elementos, y que cada elemento en la lista es **verde**, **rojo** o **azul**. Queremos ordenar los elementos en nuestra lista de tal forma que aparezcan los elementos **verdes**, después los **rojos** y al final los **azules**. Las operaciones que tenemos disponibles son **a) Color(A,i)**, la cual nos da el color del elemento del elemento **i** en la lista A. **b) Intercambio(A,i,j)** que intercambia el elemento **i** de **A** con el elemento **j**. Encuentre un algoritmo lineal que solucione el problema."
   ]
  },
  {
   "cell_type": "code",
   "execution_count": 1,
   "metadata": {},
   "outputs": [
    {
     "data": {
      "text/plain": [
       "Color (generic function with 1 method)"
      ]
     },
     "execution_count": 1,
     "metadata": {},
     "output_type": "execute_result"
    }
   ],
   "source": [
    "function Color(A,i)\n",
    "    if A[i] == 1\n",
    "        return \"verde\"\n",
    "    elseif A[i] == 2\n",
    "        return \"rojo\"\n",
    "    elseif A[i] == 3\n",
    "        return \"azul\"\n",
    "    else\n",
    "        return false\n",
    "    end\n",
    "end"
   ]
  },
  {
   "cell_type": "code",
   "execution_count": 21,
   "metadata": {},
   "outputs": [
    {
     "data": {
      "text/plain": [
       "Intercambio (generic function with 1 method)"
      ]
     },
     "execution_count": 21,
     "metadata": {},
     "output_type": "execute_result"
    }
   ],
   "source": [
    "function Intercambio(A,i,j)\n",
    "    aux = A[i]\n",
    "    A[i] = A[j]\n",
    "    A[j] = aux\n",
    "    return\n",
    "end"
   ]
  },
  {
   "cell_type": "code",
   "execution_count": 28,
   "metadata": {},
   "outputs": [
    {
     "data": {
      "text/plain": [
       "Ordenar_Colores (generic function with 1 method)"
      ]
     },
     "execution_count": 28,
     "metadata": {},
     "output_type": "execute_result"
    }
   ],
   "source": [
    "function Ordenar_Colores(A)\n",
    "    i = 1\n",
    "    B = A\n",
    "    C = A\n",
    "    for j in 1:length(A)\n",
    "        if Color(B,j) == \"verde\"\n",
    "            Intercambio(B,i,j)\n",
    "            C[i] = B[i]\n",
    "            i = i+1\n",
    "        end\n",
    "    end\n",
    "    B = A\n",
    "    for j in 1:length(A)\n",
    "        if Color(B,j) == \"rojo\"\n",
    "            Intercambio(B,i,j)\n",
    "            C[i] = B[i]\n",
    "            i = i+1\n",
    "        end\n",
    "    end\n",
    "    B = A\n",
    "    for j in 1:length(A)\n",
    "        if Color(B,j) == \"azul\"\n",
    "            Intercambio(B,i,j)\n",
    "            C[i] = B[i]\n",
    "            i = i+1\n",
    "        end\n",
    "    end\n",
    "    return C\n",
    "end"
   ]
  },
  {
   "cell_type": "code",
   "execution_count": 43,
   "metadata": {},
   "outputs": [],
   "source": [
    "A = [3,1,3,1,1,1,1,3,1,3,3,1,3,1,3,3,3,1,1,1,1,3,3,2,1,1];"
   ]
  },
  {
   "cell_type": "code",
   "execution_count": 44,
   "metadata": {},
   "outputs": [
    {
     "data": {
      "text/plain": [
       "26-element Vector{Int64}:\n",
       " 1\n",
       " 1\n",
       " 1\n",
       " 1\n",
       " 1\n",
       " 1\n",
       " 1\n",
       " 1\n",
       " 1\n",
       " 1\n",
       " 1\n",
       " 1\n",
       " 1\n",
       " 1\n",
       " 2\n",
       " 3\n",
       " 3\n",
       " 3\n",
       " 3\n",
       " 3\n",
       " 3\n",
       " 3\n",
       " 3\n",
       " 3\n",
       " 3\n",
       " 3"
      ]
     },
     "execution_count": 44,
     "metadata": {},
     "output_type": "execute_result"
    }
   ],
   "source": [
    "Ordenar_Colores(A)"
   ]
  },
  {
   "cell_type": "markdown",
   "metadata": {},
   "source": [
    "## 3.\n",
    "\n",
    "Dada una lista de **n** enteros **{x1,x2,..,xn}** y un número **y**, encuentre un algoritmo que en **O(nlgn)** encuentre la pareja **(i,j)** tal que **xi+xj** es a lo sumo **y**, ademas es **máxima**. "
   ]
  },
  {
   "cell_type": "code",
   "execution_count": 52,
   "metadata": {},
   "outputs": [
    {
     "data": {
      "text/plain": [
       "Encontrar_Suma_Maxima (generic function with 1 method)"
      ]
     },
     "execution_count": 52,
     "metadata": {},
     "output_type": "execute_result"
    }
   ],
   "source": [
    "function Encontrar_Suma_Maxima(y,i,j,A)\n",
    "    A = sort(A)\n",
    "    aux = 0\n",
    "    elementos = []\n",
    "    while i <= j\n",
    "        if A[i] + A[j] <= y && A[i] + A[j] > aux \n",
    "            elementos = [A[i], A[j]]\n",
    "            aux = A[i] + A[j]\n",
    "            i = i+1\n",
    "        elseif A[i] + A[j] > y\n",
    "            j = j-1\n",
    "        else\n",
    "            i = i+1\n",
    "        end\n",
    "    end\n",
    "    return elementos\n",
    "end"
   ]
  },
  {
   "cell_type": "code",
   "execution_count": 54,
   "metadata": {},
   "outputs": [],
   "source": [
    "A = [4,3,5,3,11,2,0,1]\n",
    "y = 20;"
   ]
  },
  {
   "cell_type": "code",
   "execution_count": 55,
   "metadata": {
    "scrolled": false
   },
   "outputs": [
    {
     "data": {
      "text/plain": [
       "2-element Vector{Int64}:\n",
       "  5\n",
       " 11"
      ]
     },
     "execution_count": 55,
     "metadata": {},
     "output_type": "execute_result"
    }
   ],
   "source": [
    "Encontrar_Suma_Maxima(y,1,8,A)"
   ]
  },
  {
   "cell_type": "markdown",
   "metadata": {},
   "source": [
    "## 4.\n",
    "\n",
    "Queremos ordenar una lista **S** de **n** elementos enteros que contiene muchos elementos duplicados. Supongamos que los elementos de **S** sólo toman **O(lgn)** valores distintos. Encuentre un algoritmo que tome a lo más **O(nlglgn)** tiempo para ordenar **S**."
   ]
  },
  {
   "cell_type": "code",
   "execution_count": 68,
   "metadata": {},
   "outputs": [
    {
     "data": {
      "text/plain": [
       "Ordenar_Duplicados (generic function with 1 method)"
      ]
     },
     "execution_count": 68,
     "metadata": {},
     "output_type": "execute_result"
    }
   ],
   "source": [
    "function Ordenar_Duplicados(S)\n",
    "    D = Dict()\n",
    "    for i in 1:length(S)\n",
    "        if S[i] in keys(D)\n",
    "            D[S[i]] = D[S[i]] + 1\n",
    "        else\n",
    "            D[S[i]] = 1\n",
    "        end\n",
    "    end\n",
    "    O = collect(keys(D))\n",
    "    O = sort(O)\n",
    "    k = 1\n",
    "    for i in 1:length(O)\n",
    "        j = D[O[i]]\n",
    "        while j != 0\n",
    "            S[k] = O[i]\n",
    "            j = j-1\n",
    "            k = k + 1\n",
    "        end\n",
    "    end\n",
    "    return S\n",
    "end"
   ]
  },
  {
   "cell_type": "code",
   "execution_count": 73,
   "metadata": {},
   "outputs": [
    {
     "data": {
      "text/plain": [
       "8-element Vector{Int64}:\n",
       " 33\n",
       " 14\n",
       " 33\n",
       " 33\n",
       " 33\n",
       "  2\n",
       "  2\n",
       " 33"
      ]
     },
     "execution_count": 73,
     "metadata": {},
     "output_type": "execute_result"
    }
   ],
   "source": [
    "S = [33,14,33,33,33,2,2,33]"
   ]
  },
  {
   "cell_type": "code",
   "execution_count": 74,
   "metadata": {
    "scrolled": true
   },
   "outputs": [
    {
     "data": {
      "text/plain": [
       "8-element Vector{Int64}:\n",
       "  2\n",
       "  2\n",
       " 14\n",
       " 33\n",
       " 33\n",
       " 33\n",
       " 33\n",
       " 33"
      ]
     },
     "execution_count": 74,
     "metadata": {},
     "output_type": "execute_result"
    }
   ],
   "source": [
    "Ordenar_Duplicados(S)"
   ]
  },
  {
   "cell_type": "markdown",
   "metadata": {},
   "source": [
    "## 6. \n",
    "\n",
    "El problema del tornillo y las tuercas es el siguiente. Nos dan en una bolsa un conjunto de **n tornillos** de distintos tamaños y en otra sus **n tuercas**. Nuestro problema es encontrar para cada tornillo su tuerca. En cada paso usted sólo puede comparar un tornillo y una tuerca y verificar si una tuerca corresponde al tornillo, o si el diámetro del tornillo es mayor o menor al diámetro de la tuerca. La diferencia en tamaños y las tuercas es tan pequeño que no puede compara los tornillos entre ellos y las tuercas entre ellas. Encuentre un algoritmo que resuelva el problema en **O(n^2)** en el peor de los casos, pero que su tiempo esperado sea **O(nlgn)**."
   ]
  },
  {
   "cell_type": "code",
   "execution_count": 1,
   "metadata": {},
   "outputs": [
    {
     "data": {
      "text/plain": [
       "Partition (generic function with 1 method)"
      ]
     },
     "execution_count": 1,
     "metadata": {},
     "output_type": "execute_result"
    }
   ],
   "source": [
    "function Partition(A, f, l, p)\n",
    "    i = f\n",
    "    j = f\n",
    "    while j < l\n",
    "        if A[j] < p\n",
    "            A[i], A[j] = A[j], A[i]\n",
    "            i = i + 1\n",
    "        elseif A[j] == p\n",
    "            A[j], A[l] = A[l], A[j]\n",
    "            j = j - 1\n",
    "        end\n",
    "        j = j + 1\n",
    "    end\n",
    "    A[i], A[l] = A[l], A[i]\n",
    "    return i\n",
    "end"
   ]
  },
  {
   "cell_type": "code",
   "execution_count": 5,
   "metadata": {},
   "outputs": [
    {
     "data": {
      "text/plain": [
       "Ordenar_Parejas (generic function with 1 method)"
      ]
     },
     "execution_count": 5,
     "metadata": {},
     "output_type": "execute_result"
    }
   ],
   "source": [
    "function Ordenar_Parejas(Tornillos, Tuercas, f, l)\n",
    "    if f < l\n",
    "        p = Partition(Tuercas, f, l, Tornillos[l])\n",
    "        Partition(Tornillos, f, l, Tuercas[p])\n",
    "        Ordenar_Parejas(Tornillos, Tuercas, f, p-1)\n",
    "        Ordenar_Parejas(Tornillos, Tuercas, p+1, l)\n",
    "    end\n",
    "end"
   ]
  },
  {
   "cell_type": "code",
   "execution_count": 18,
   "metadata": {},
   "outputs": [
    {
     "data": {
      "text/plain": [
       "([0.31, 0.16, 0.21, 0.25, 0.09, 0.37], [0.16, 0.37, 0.21, 0.09, 0.31, 0.25])"
      ]
     },
     "execution_count": 18,
     "metadata": {},
     "output_type": "execute_result"
    }
   ],
   "source": [
    "Tornillos = [0.31, 0.16, 0.21, 0.25, 0.09, 0.37]\n",
    "Tuercas = [0.16, 0.37, 0.21, 0.09, 0.31, 0.25]\n",
    "Tornillos, Tuercas"
   ]
  },
  {
   "cell_type": "code",
   "execution_count": 19,
   "metadata": {},
   "outputs": [],
   "source": [
    "Ordenar_Parejas(Tornillos, Tuercas, 1, 6)"
   ]
  },
  {
   "cell_type": "code",
   "execution_count": 20,
   "metadata": {},
   "outputs": [
    {
     "data": {
      "text/plain": [
       "([0.09, 0.16, 0.21, 0.25, 0.31, 0.37], [0.09, 0.16, 0.21, 0.25, 0.31, 0.37])"
      ]
     },
     "execution_count": 20,
     "metadata": {},
     "output_type": "execute_result"
    }
   ],
   "source": [
    "Tornillos, Tuercas"
   ]
  }
 ],
 "metadata": {
  "kernelspec": {
   "display_name": "Julia 1.6.2",
   "language": "julia",
   "name": "julia-1.6"
  },
  "language_info": {
   "file_extension": ".jl",
   "mimetype": "application/julia",
   "name": "julia",
   "version": "1.6.2"
  }
 },
 "nbformat": 4,
 "nbformat_minor": 4
}
